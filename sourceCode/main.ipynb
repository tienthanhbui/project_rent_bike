{
 "cells": [
  {
   "cell_type": "markdown",
   "metadata": {},
   "source": [
    "Insert libraries"
   ]
  },
  {
   "cell_type": "code",
   "execution_count": 2,
   "metadata": {},
   "outputs": [],
   "source": [
    "import pandas as pd\n",
    "import matplotlib.pyplot as plt"
   ]
  },
  {
   "cell_type": "markdown",
   "metadata": {},
   "source": [
    "Load data set"
   ]
  },
  {
   "cell_type": "code",
   "execution_count": 3,
   "metadata": {},
   "outputs": [
    {
     "data": {
      "text/html": [
       "<div>\n",
       "<style scoped>\n",
       "    .dataframe tbody tr th:only-of-type {\n",
       "        vertical-align: middle;\n",
       "    }\n",
       "\n",
       "    .dataframe tbody tr th {\n",
       "        vertical-align: top;\n",
       "    }\n",
       "\n",
       "    .dataframe thead th {\n",
       "        text-align: right;\n",
       "    }\n",
       "</style>\n",
       "<table border=\"1\" class=\"dataframe\">\n",
       "  <thead>\n",
       "    <tr style=\"text-align: right;\">\n",
       "      <th></th>\n",
       "      <th>Date</th>\n",
       "      <th>Rented Bike Count</th>\n",
       "      <th>Hour</th>\n",
       "      <th>Temperature(°C)</th>\n",
       "      <th>Humidity(%)</th>\n",
       "      <th>Wind speed (m/s)</th>\n",
       "      <th>Visibility (10m)</th>\n",
       "      <th>Dew point temperature(°C)</th>\n",
       "      <th>Solar Radiation (MJ/m2)</th>\n",
       "      <th>Rainfall(mm)</th>\n",
       "      <th>Snowfall (cm)</th>\n",
       "      <th>Seasons</th>\n",
       "      <th>Holiday</th>\n",
       "      <th>Functioning Day</th>\n",
       "    </tr>\n",
       "  </thead>\n",
       "  <tbody>\n",
       "    <tr>\n",
       "      <th>0</th>\n",
       "      <td>01/12/2017</td>\n",
       "      <td>254</td>\n",
       "      <td>0</td>\n",
       "      <td>-5.2</td>\n",
       "      <td>37</td>\n",
       "      <td>2.2</td>\n",
       "      <td>2000</td>\n",
       "      <td>-17.6</td>\n",
       "      <td>0.0</td>\n",
       "      <td>0.0</td>\n",
       "      <td>0.0</td>\n",
       "      <td>Winter</td>\n",
       "      <td>No Holiday</td>\n",
       "      <td>Yes</td>\n",
       "    </tr>\n",
       "    <tr>\n",
       "      <th>1</th>\n",
       "      <td>01/12/2017</td>\n",
       "      <td>204</td>\n",
       "      <td>1</td>\n",
       "      <td>-5.5</td>\n",
       "      <td>38</td>\n",
       "      <td>0.8</td>\n",
       "      <td>2000</td>\n",
       "      <td>-17.6</td>\n",
       "      <td>0.0</td>\n",
       "      <td>0.0</td>\n",
       "      <td>0.0</td>\n",
       "      <td>Winter</td>\n",
       "      <td>No Holiday</td>\n",
       "      <td>Yes</td>\n",
       "    </tr>\n",
       "    <tr>\n",
       "      <th>2</th>\n",
       "      <td>01/12/2017</td>\n",
       "      <td>173</td>\n",
       "      <td>2</td>\n",
       "      <td>-6.0</td>\n",
       "      <td>39</td>\n",
       "      <td>1.0</td>\n",
       "      <td>2000</td>\n",
       "      <td>-17.7</td>\n",
       "      <td>0.0</td>\n",
       "      <td>0.0</td>\n",
       "      <td>0.0</td>\n",
       "      <td>Winter</td>\n",
       "      <td>No Holiday</td>\n",
       "      <td>Yes</td>\n",
       "    </tr>\n",
       "    <tr>\n",
       "      <th>3</th>\n",
       "      <td>01/12/2017</td>\n",
       "      <td>107</td>\n",
       "      <td>3</td>\n",
       "      <td>-6.2</td>\n",
       "      <td>40</td>\n",
       "      <td>0.9</td>\n",
       "      <td>2000</td>\n",
       "      <td>-17.6</td>\n",
       "      <td>0.0</td>\n",
       "      <td>0.0</td>\n",
       "      <td>0.0</td>\n",
       "      <td>Winter</td>\n",
       "      <td>No Holiday</td>\n",
       "      <td>Yes</td>\n",
       "    </tr>\n",
       "    <tr>\n",
       "      <th>4</th>\n",
       "      <td>01/12/2017</td>\n",
       "      <td>78</td>\n",
       "      <td>4</td>\n",
       "      <td>-6.0</td>\n",
       "      <td>36</td>\n",
       "      <td>2.3</td>\n",
       "      <td>2000</td>\n",
       "      <td>-18.6</td>\n",
       "      <td>0.0</td>\n",
       "      <td>0.0</td>\n",
       "      <td>0.0</td>\n",
       "      <td>Winter</td>\n",
       "      <td>No Holiday</td>\n",
       "      <td>Yes</td>\n",
       "    </tr>\n",
       "    <tr>\n",
       "      <th>5</th>\n",
       "      <td>01/12/2017</td>\n",
       "      <td>100</td>\n",
       "      <td>5</td>\n",
       "      <td>-6.4</td>\n",
       "      <td>37</td>\n",
       "      <td>1.5</td>\n",
       "      <td>2000</td>\n",
       "      <td>-18.7</td>\n",
       "      <td>0.0</td>\n",
       "      <td>0.0</td>\n",
       "      <td>0.0</td>\n",
       "      <td>Winter</td>\n",
       "      <td>No Holiday</td>\n",
       "      <td>Yes</td>\n",
       "    </tr>\n",
       "  </tbody>\n",
       "</table>\n",
       "</div>"
      ],
      "text/plain": [
       "         Date  Rented Bike Count  Hour  Temperature(°C)  Humidity(%)  \\\n",
       "0  01/12/2017                254     0             -5.2           37   \n",
       "1  01/12/2017                204     1             -5.5           38   \n",
       "2  01/12/2017                173     2             -6.0           39   \n",
       "3  01/12/2017                107     3             -6.2           40   \n",
       "4  01/12/2017                 78     4             -6.0           36   \n",
       "5  01/12/2017                100     5             -6.4           37   \n",
       "\n",
       "   Wind speed (m/s)  Visibility (10m)  Dew point temperature(°C)  \\\n",
       "0               2.2              2000                      -17.6   \n",
       "1               0.8              2000                      -17.6   \n",
       "2               1.0              2000                      -17.7   \n",
       "3               0.9              2000                      -17.6   \n",
       "4               2.3              2000                      -18.6   \n",
       "5               1.5              2000                      -18.7   \n",
       "\n",
       "   Solar Radiation (MJ/m2)  Rainfall(mm)  Snowfall (cm) Seasons     Holiday  \\\n",
       "0                      0.0           0.0            0.0  Winter  No Holiday   \n",
       "1                      0.0           0.0            0.0  Winter  No Holiday   \n",
       "2                      0.0           0.0            0.0  Winter  No Holiday   \n",
       "3                      0.0           0.0            0.0  Winter  No Holiday   \n",
       "4                      0.0           0.0            0.0  Winter  No Holiday   \n",
       "5                      0.0           0.0            0.0  Winter  No Holiday   \n",
       "\n",
       "  Functioning Day  \n",
       "0             Yes  \n",
       "1             Yes  \n",
       "2             Yes  \n",
       "3             Yes  \n",
       "4             Yes  \n",
       "5             Yes  "
      ]
     },
     "execution_count": 3,
     "metadata": {},
     "output_type": "execute_result"
    }
   ],
   "source": [
    "data = pd.read_csv(\"../data/SeoulBikeData.csv\")\n",
    "data.head(6)"
   ]
  },
  {
   "cell_type": "markdown",
   "metadata": {},
   "source": [
    "Exploration and Preprocessing"
   ]
  },
  {
   "cell_type": "code",
   "execution_count": 7,
   "metadata": {},
   "outputs": [
    {
     "data": {
      "text/plain": [
       "0       False\n",
       "1       False\n",
       "2       False\n",
       "3       False\n",
       "4       False\n",
       "        ...  \n",
       "8755    False\n",
       "8756    False\n",
       "8757    False\n",
       "8758    False\n",
       "8759    False\n",
       "Length: 8760, dtype: bool"
      ]
     },
     "execution_count": 7,
     "metadata": {},
     "output_type": "execute_result"
    }
   ],
   "source": [
    "data.duplicated()"
   ]
  },
  {
   "cell_type": "code",
   "execution_count": 8,
   "metadata": {},
   "outputs": [
    {
     "name": "stdout",
     "output_type": "stream",
     "text": [
      "<class 'pandas.core.frame.DataFrame'>\n",
      "RangeIndex: 8760 entries, 0 to 8759\n",
      "Data columns (total 14 columns):\n",
      " #   Column                     Non-Null Count  Dtype  \n",
      "---  ------                     --------------  -----  \n",
      " 0   Date                       8760 non-null   object \n",
      " 1   Rented Bike Count          8760 non-null   int64  \n",
      " 2   Hour                       8760 non-null   int64  \n",
      " 3   Temperature(°C)            8760 non-null   float64\n",
      " 4   Humidity(%)                8760 non-null   int64  \n",
      " 5   Wind speed (m/s)           8760 non-null   float64\n",
      " 6   Visibility (10m)           8760 non-null   int64  \n",
      " 7   Dew point temperature(°C)  8760 non-null   float64\n",
      " 8   Solar Radiation (MJ/m2)    8760 non-null   float64\n",
      " 9   Rainfall(mm)               8760 non-null   float64\n",
      " 10  Snowfall (cm)              8760 non-null   float64\n",
      " 11  Seasons                    8760 non-null   object \n",
      " 12  Holiday                    8760 non-null   object \n",
      " 13  Functioning Day            8760 non-null   object \n",
      "dtypes: float64(6), int64(4), object(4)\n",
      "memory usage: 958.3+ KB\n"
     ]
    }
   ],
   "source": [
    "data.info()"
   ]
  },
  {
   "cell_type": "code",
   "execution_count": 13,
   "metadata": {},
   "outputs": [
    {
     "name": "stdout",
     "output_type": "stream",
     "text": [
      "['Date', 'Seasons', 'Holiday', 'Functioning Day']\n",
      "['Rented Bike Count', 'Hour', 'Temperature(°C)', 'Humidity(%)', 'Wind speed (m/s)', 'Visibility (10m)', 'Dew point temperature(°C)', 'Solar Radiation (MJ/m2)', 'Rainfall(mm)', 'Snowfall (cm)']\n"
     ]
    }
   ],
   "source": [
    "cat_col = [col for col in data.columns if data[col].dtype == \"object\"]\n",
    "print(cat_col)\n",
    "\n",
    "num_col = [col for col in data.columns if data[col].dtype != \"object\"]\n",
    "print(num_col)"
   ]
  },
  {
   "cell_type": "code",
   "execution_count": 14,
   "metadata": {},
   "outputs": [
    {
     "data": {
      "text/plain": [
       "Rented Bike Count            2166\n",
       "Hour                           24\n",
       "Temperature(°C)               546\n",
       "Humidity(%)                    90\n",
       "Wind speed (m/s)               65\n",
       "Visibility (10m)             1789\n",
       "Dew point temperature(°C)     556\n",
       "Solar Radiation (MJ/m2)       345\n",
       "Rainfall(mm)                   61\n",
       "Snowfall (cm)                  51\n",
       "dtype: int64"
      ]
     },
     "execution_count": 14,
     "metadata": {},
     "output_type": "execute_result"
    }
   ],
   "source": [
    "data[num_col].nunique()"
   ]
  },
  {
   "cell_type": "code",
   "execution_count": 15,
   "metadata": {},
   "outputs": [
    {
     "data": {
      "text/plain": [
       "Date               365\n",
       "Seasons              4\n",
       "Holiday              2\n",
       "Functioning Day      2\n",
       "dtype: int64"
      ]
     },
     "execution_count": 15,
     "metadata": {},
     "output_type": "execute_result"
    }
   ],
   "source": [
    "data[cat_col].nunique()"
   ]
  },
  {
   "cell_type": "code",
   "execution_count": 20,
   "metadata": {},
   "outputs": [],
   "source": [
    "# Split data by Seasons\n",
    "df_spring = data.loc[data.Seasons == \"Spring\"]\n",
    "df_summer = data.loc[data.Seasons == \"Summer\"]\n",
    "df_autumn = data.loc[data.Seasons == \"Autumn\"]\n",
    "df_winter = data.loc[data.Seasons == \"Winter\"]"
   ]
  },
  {
   "cell_type": "code",
   "execution_count": 38,
   "metadata": {},
   "outputs": [],
   "source": [
    "# Define 3 times of the day\n",
    "morning = [6, 7, 8, 9, 10, 11, 12]\n",
    "afternoon = [13, 14, 15, 16, 17]\n",
    "evening = [18, 19, 20, 21, 22, 23, 0, 1, 2, 3, 4, 5]"
   ]
  },
  {
   "cell_type": "code",
   "execution_count": 49,
   "metadata": {},
   "outputs": [
    {
     "name": "stdout",
     "output_type": "stream",
     "text": [
      "60017.42857142857\n",
      "93819.0\n",
      "60224.333333333336\n"
     ]
    }
   ],
   "source": [
    "# Compute the sum of rented bike by time of the day in Spring\n",
    "sum_rentedbike_by_time_in_spring = [sum(df_spring.loc[df_spring.Hour == i][\"Rented Bike Count\"]) for i in range(24)]\n",
    "\n",
    "# Compute the average of rented bike in 3 times of the day\n",
    "morning_in_spring = sum([sum_rentedbike_by_time_in_spring[i] for i in morning])/len(morning)\n",
    "afternoon_in_spring = sum([sum_rentedbike_by_time_in_spring[i] for i in afternoon])/len(afternoon)\n",
    "evening_in_spring = sum([sum_rentedbike_by_time_in_spring[i] for i in evening])/len(evening)\n",
    "\n",
    "print(morning_in_spring)\n",
    "print(afternoon_in_spring)\n",
    "print(evening_in_spring)"
   ]
  },
  {
   "cell_type": "code",
   "execution_count": 50,
   "metadata": {},
   "outputs": [
    {
     "name": "stdout",
     "output_type": "stream",
     "text": [
      "80231.14285714286\n",
      "101109.0\n",
      "101339.25\n"
     ]
    }
   ],
   "source": [
    "# Compute the sum of rented bike by time of the day in Summer\n",
    "sum_rentedbike_by_time_in_summer = [sum(df_summer.loc[df_summer.Hour == i][\"Rented Bike Count\"]) for i in range(24)]\n",
    "\n",
    "# Compute the average of rented bike in 3 times of the day\n",
    "morning_in_summer = sum([sum_rentedbike_by_time_in_summer[i] for i in morning])/len(morning)\n",
    "afternoon_in_summer = sum([sum_rentedbike_by_time_in_summer[i] for i in afternoon])/len(afternoon)\n",
    "evening_in_summer = sum([sum_rentedbike_by_time_in_summer[i] for i in evening])/len(evening)\n",
    "\n",
    "print(morning_in_summer)\n",
    "print(afternoon_in_summer)\n",
    "print(evening_in_summer)"
   ]
  },
  {
   "cell_type": "code",
   "execution_count": 51,
   "metadata": {},
   "outputs": [
    {
     "name": "stdout",
     "output_type": "stream",
     "text": [
      "67001.57142857143\n",
      "98403.4\n",
      "69081.16666666667\n"
     ]
    }
   ],
   "source": [
    "# Compute the sum of rented bike by time of the day in Autumn\n",
    "sum_rentedbike_by_time_in_autumn = [sum(df_autumn.loc[df_autumn.Hour == i][\"Rented Bike Count\"]) for i in range(24)]\n",
    "\n",
    "# Compute the average of rented bike in 3 times of the day\n",
    "morning_in_autumn = sum([sum_rentedbike_by_time_in_autumn[i] for i in morning])/len(morning)\n",
    "afternoon_in_autumn = sum([sum_rentedbike_by_time_in_autumn[i] for i in afternoon])/len(afternoon)\n",
    "evening_in_autumn = sum([sum_rentedbike_by_time_in_autumn[i] for i in evening])/len(evening)\n",
    "\n",
    "print(morning_in_autumn)\n",
    "print(afternoon_in_autumn)\n",
    "print(evening_in_autumn)"
   ]
  },
  {
   "cell_type": "code",
   "execution_count": 52,
   "metadata": {},
   "outputs": [
    {
     "name": "stdout",
     "output_type": "stream",
     "text": [
      "21311.285714285714\n",
      "27167.0\n",
      "16846.25\n"
     ]
    }
   ],
   "source": [
    "# Compute the sum of rented bike by time of the day in Winter\n",
    "sum_rentedbike_by_time_in_winter = [sum(df_winter.loc[df_winter.Hour == i][\"Rented Bike Count\"]) for i in range(24)]\n",
    "\n",
    "# Compute the average of rented bike in 3 times of the day\n",
    "morning_in_winter = sum([sum_rentedbike_by_time_in_winter[i] for i in morning])/len(morning)\n",
    "afternoon_in_winter = sum([sum_rentedbike_by_time_in_winter[i] for i in afternoon])/len(afternoon)\n",
    "evening_in_winter = sum([sum_rentedbike_by_time_in_winter[i] for i in evening])/len(evening)\n",
    "\n",
    "print(morning_in_winter)\n",
    "print(afternoon_in_winter)\n",
    "print(evening_in_winter)"
   ]
  },
  {
   "cell_type": "markdown",
   "metadata": {},
   "source": [
    "Review: In all seasons, bikes are most rented in the afternoon"
   ]
  },
  {
   "cell_type": "code",
   "execution_count": 99,
   "metadata": {},
   "outputs": [],
   "source": [
    "g_spring = df_spring.groupby(\"Temperature(°C)\", as_index = False).sum()\n",
    "g_summer = df_summer.groupby(\"Temperature(°C)\", as_index = False).sum()\n",
    "g_autumn = df_autumn.groupby(\"Temperature(°C)\", as_index = False).sum()\n",
    "g_winter = df_winter.groupby(\"Temperature(°C)\", as_index = False).sum()"
   ]
  },
  {
   "cell_type": "code",
   "execution_count": 111,
   "metadata": {},
   "outputs": [
    {
     "data": {
      "image/png": "[encoded data removed]",
      "text/plain": [
       "<Figure size 640x480 with 1 Axes>"
      ]
     },
     "metadata": {},
     "output_type": "display_data"
    }
   ],
   "source": [
    "count_spring = g_spring[\"Rented Bike Count\"]\n",
    "temperatures_spring = g_spring[\"Temperature(°C)\"]\n",
    "\n",
    "count_summer = g_summer[\"Rented Bike Count\"]\n",
    "temperatures_summer = g_summer[\"Temperature(°C)\"]\n",
    "\n",
    "count_autumn = g_autumn[\"Rented Bike Count\"]\n",
    "temperatures_autumn = g_autumn[\"Temperature(°C)\"]\n",
    "\n",
    "count_winter = g_winter[\"Rented Bike Count\"]\n",
    "temperatures_winter = g_winter[\"Temperature(°C)\"]\n",
    "\n",
    "plt.plot(temperatures_spring, count_spring, label=\"spring\", color=\"r\")\n",
    "plt.plot(temperatures_summer, count_summer, label=\"summer\", color=\"y\")\n",
    "plt.plot(temperatures_autumn, count_autumn, label=\"autumn\", color=\"b\")\n",
    "plt.plot(temperatures_winter, count_winter, label=\"winter\", color=\"k\")\n",
    "plt.legend()\n",
    "plt.show()"
   ]
  },
  {
   "cell_type": "code",
   "execution_count": 112,
   "metadata": {},
   "outputs": [
    {
     "name": "stdout",
     "output_type": "stream",
     "text": [
      "['Rented Bike Count', 'Hour', 'Temperature(°C)', 'Humidity(%)', 'Wind speed (m/s)', 'Visibility (10m)', 'Dew point temperature(°C)', 'Solar Radiation (MJ/m2)', 'Rainfall(mm)', 'Snowfall (cm)']\n"
     ]
    }
   ],
   "source": [
    "print(num_col)"
   ]
  },
  {
   "cell_type": "code",
   "execution_count": 114,
   "metadata": {},
   "outputs": [
    {
     "name": "stdout",
     "output_type": "stream",
     "text": [
      "Rented Bike Count            1.000000\n",
      "Hour                         0.410257\n",
      "Temperature(°C)              0.538558\n",
      "Humidity(%)                 -0.199780\n",
      "Wind speed (m/s)             0.121108\n",
      "Visibility (10m)             0.199280\n",
      "Dew point temperature(°C)    0.379788\n",
      "Solar Radiation (MJ/m2)      0.261837\n",
      "Rainfall(mm)                -0.123074\n",
      "Snowfall (cm)               -0.141804\n",
      "Name: Rented Bike Count, dtype: float64\n"
     ]
    }
   ],
   "source": [
    "correlation = data.corr(method=\"pearson\", numeric_only=True)\n",
    "print(correlation[\"Rented Bike Count\"])"
   ]
  },
  {
   "cell_type": "markdown",
   "metadata": {},
   "source": [
    "The feature has the most correlation is Temperature(°C) and it is a moderate correlation"
   ]
  },
  {
   "cell_type": "code",
   "execution_count": 5,
   "metadata": {},
   "outputs": [
    {
     "data": {
      "text/plain": [
       "np.int64(3556)"
      ]
     },
     "execution_count": 5,
     "metadata": {},
     "output_type": "execute_result"
    }
   ],
   "source": [
    "data[\"Rented Bike Count\"].max()"
   ]
  },
  {
   "cell_type": "code",
   "execution_count": 18,
   "metadata": {},
   "outputs": [
    {
     "data": {
      "text/plain": [
       "Date                         5952\n",
       "Rented Bike Count            5952\n",
       "Hour                         5952\n",
       "Temperature(°C)              5952\n",
       "Humidity(%)                  5952\n",
       "Wind speed (m/s)             5952\n",
       "Visibility (10m)             5952\n",
       "Dew point temperature(°C)    5952\n",
       "Solar Radiation (MJ/m2)      5952\n",
       "Rainfall(mm)                 5952\n",
       "Snowfall (cm)                5952\n",
       "Seasons                      5952\n",
       "Holiday                      5952\n",
       "Functioning Day              5952\n",
       "dtype: int64"
      ]
     },
     "execution_count": 18,
     "metadata": {},
     "output_type": "execute_result"
    }
   ],
   "source": [
    "data[data[\"Rented Bike Count\"] <= 900].count()"
   ]
  },
  {
   "cell_type": "code",
   "execution_count": null,
   "metadata": {},
   "outputs": [],
   "source": []
  }
 ],
 "metadata": {
  "kernelspec": {
   "display_name": "venv",
   "language": "python",
   "name": "python3"
  },
  "language_info": {
   "codemirror_mode": {
    "name": "ipython",
    "version": 3
   },
   "file_extension": ".py",
   "mimetype": "text/x-python",
   "name": "python",
   "nbconvert_exporter": "python",
   "pygments_lexer": "ipython3",
   "version": "3.12.4"
  }
 },
 "nbformat": 4,
 "nbformat_minor": 2
}
